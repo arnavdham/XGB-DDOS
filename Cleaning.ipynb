{
 "cells": [
  {
   "cell_type": "code",
   "execution_count": 2,
   "id": "3491c0df-17dd-4965-b0b6-d2ed498697e4",
   "metadata": {},
   "outputs": [],
   "source": [
    "import pandas as pd\n"
   ]
  },
  {
   "cell_type": "code",
   "execution_count": null,
   "id": "061b0929-b4d6-4bcc-bbcd-213fbb18d302",
   "metadata": {},
   "outputs": [],
   "source": [
    "drop_columns = [ #list of columns to be dropped as they are unnecesary\n",
    "    \"Flow ID\",    \n",
    "    'Fwd Header Length.1',\n",
    "    \"Source IP\", \"Src IP\",\n",
    "    \"Source Port\", \"Src Port\",\n",
    "    \"Destination IP\", \"Dst IP\",\n",
    "    \"Destination Port\", \"Dst Port\",\n",
    "    \"Timestamp\",\n",
    "    \"Unnamed: 0\", \"Inbound\", \"SimillarHTTP\" # CIC-DDoS other undocumented columns\n",
    "]\n",
    "df.drop(columns=drop_columns, inplace=True, errors='ignore') "
   ]
  },
  {
   "cell_type": "code",
   "execution_count": 8,
   "id": "7da32728-c21f-49f2-8c03-4c81d76b86ef",
   "metadata": {},
   "outputs": [
    {
     "name": "stderr",
     "output_type": "stream",
     "text": [
      "C:\\Users\\Arnav Dham\\AppData\\Local\\Temp\\ipykernel_16420\\1708296956.py:5: DtypeWarning: Columns (85) have mixed types. Specify dtype option on import or set low_memory=False.\n",
      "  df = pd.read_csv(\"01-12\\\\Syn.csv\")\n"
     ]
    }
   ],
   "source": [
    "import pandas as pd\n",
    "from imblearn.under_sampling import RandomUnderSampler\n",
    "\n",
    "# Load the dataset\n",
    "df = pd.read_csv(\"01-12\\\\Syn.csv\")\n",
    "\n"
   ]
  },
  {
   "cell_type": "code",
   "execution_count": 11,
   "id": "a6270b66-db3e-470a-96df-036e09d948eb",
   "metadata": {},
   "outputs": [
    {
     "name": "stdout",
     "output_type": "stream",
     "text": [
      "Index(['Unnamed: 0', 'Flow ID', 'Source IP', 'Source Port', 'Destination IP',\n",
      "       'Destination Port', 'Protocol', 'Timestamp', 'Flow Duration',\n",
      "       'Total Fwd Packets', 'Total Backward Packets',\n",
      "       'Total Length of Fwd Packets', 'Total Length of Bwd Packets',\n",
      "       'Fwd Packet Length Max', 'Fwd Packet Length Min',\n",
      "       'Fwd Packet Length Mean', 'Fwd Packet Length Std',\n",
      "       'Bwd Packet Length Max', 'Bwd Packet Length Min',\n",
      "       'Bwd Packet Length Mean', 'Bwd Packet Length Std', 'Flow Bytes/s',\n",
      "       'Flow Packets/s', 'Flow IAT Mean', 'Flow IAT Std', 'Flow IAT Max',\n",
      "       'Flow IAT Min', 'Fwd IAT Total', 'Fwd IAT Mean', 'Fwd IAT Std',\n",
      "       'Fwd IAT Max', 'Fwd IAT Min', 'Bwd IAT Total', 'Bwd IAT Mean',\n",
      "       'Bwd IAT Std', 'Bwd IAT Max', 'Bwd IAT Min', 'Fwd PSH Flags',\n",
      "       'Bwd PSH Flags', 'Fwd URG Flags', 'Bwd URG Flags', 'Fwd Header Length',\n",
      "       'Bwd Header Length', 'Fwd Packets/s', 'Bwd Packets/s',\n",
      "       'Min Packet Length', 'Max Packet Length', 'Packet Length Mean',\n",
      "       'Packet Length Std', 'Packet Length Variance', 'FIN Flag Count',\n",
      "       'SYN Flag Count', 'RST Flag Count', 'PSH Flag Count', 'ACK Flag Count',\n",
      "       'URG Flag Count', 'CWE Flag Count', 'ECE Flag Count', 'Down/Up Ratio',\n",
      "       'Average Packet Size', 'Avg Fwd Segment Size', 'Avg Bwd Segment Size',\n",
      "       'Fwd Header Length.1', 'Fwd Avg Bytes/Bulk', 'Fwd Avg Packets/Bulk',\n",
      "       'Fwd Avg Bulk Rate', 'Bwd Avg Bytes/Bulk', 'Bwd Avg Packets/Bulk',\n",
      "       'Bwd Avg Bulk Rate', 'Subflow Fwd Packets', 'Subflow Fwd Bytes',\n",
      "       'Subflow Bwd Packets', 'Subflow Bwd Bytes', 'Init_Win_bytes_forward',\n",
      "       'Init_Win_bytes_backward', 'act_data_pkt_fwd', 'min_seg_size_forward',\n",
      "       'Active Mean', 'Active Std', 'Active Max', 'Active Min', 'Idle Mean',\n",
      "       'Idle Std', 'Idle Max', 'Idle Min', 'SimillarHTTP', 'Inbound', 'Label'],\n",
      "      dtype='object')\n"
     ]
    }
   ],
   "source": [
    "print(df.columns)\n"
   ]
  },
  {
   "cell_type": "code",
   "execution_count": 12,
   "id": "ed252b50-18e8-4fd1-a9c3-291ba84df2d6",
   "metadata": {},
   "outputs": [
    {
     "name": "stderr",
     "output_type": "stream",
     "text": [
      "C:\\Users\\Arnav Dham\\AppData\\Local\\Temp\\ipykernel_16420\\3508891651.py:2: FutureWarning: A value is trying to be set on a copy of a DataFrame or Series through chained assignment using an inplace method.\n",
      "The behavior will change in pandas 3.0. This inplace method will never work because the intermediate object on which we are setting values always behaves as a copy.\n",
      "\n",
      "For example, when doing 'df[col].method(value, inplace=True)', try using 'df.method({col: value}, inplace=True)' or df[col] = df[col].method(value) instead, to perform the operation inplace on the original object.\n",
      "\n",
      "\n",
      "  df['Label'].replace({'BENIGN': 'Benign'}, inplace=True)\n"
     ]
    }
   ],
   "source": [
    "df.drop(columns=drop_columns, inplace=True, errors='ignore')    \n",
    "df['Label'].replace({'BENIGN': 'Benign'}, inplace=True)"
   ]
  },
  {
   "cell_type": "code",
   "execution_count": 10,
   "id": "046b84d3-808b-4d2e-92b0-712c35e805a0",
   "metadata": {},
   "outputs": [],
   "source": [
    "df.columns = df.columns.str.strip()  # Removes leading/trailing spaces"
   ]
  },
  {
   "cell_type": "code",
   "execution_count": 13,
   "id": "f81a3e49-2ca0-4c1c-87db-08dcc716f2db",
   "metadata": {},
   "outputs": [
    {
     "name": "stdout",
     "output_type": "stream",
     "text": [
      "Class balance after resampling: Label\n",
      "Syn       3528\n",
      "Benign     392\n",
      "Name: count, dtype: int64\n"
     ]
    }
   ],
   "source": [
    "# Identify benign and attack samples\n",
    "benign_df = df[df['Label'] == 'Benign']\n",
    "attack_df = df[df['Label'] != 'Benign']\n",
    "\n",
    "# Number of benign samples\n",
    "benign_count = len(benign_df)\n",
    "\n",
    "# To get a 9:1 ratio, we need attack samples = 9 * benign_count\n",
    "attack_count_needed = 9 * benign_count\n",
    "\n",
    "# Downsample the attack class to match the required count\n",
    "attack_df = attack_df.sample(n=attack_count_needed, random_state=42)\n",
    "\n",
    "# Combine the balanced attack and benign data\n",
    "balanced_df = pd.concat([benign_df, attack_df])\n",
    "\n",
    "# Shuffle the dataset\n",
    "balanced_df = balanced_df.sample(frac=1, random_state=42).reset_index(drop=True)\n",
    "\n",
    "# Save the balanced dataset\n",
    "balanced_df.to_csv(\"01-12-balanced_dataset.csv\", index=False)\n",
    "\n",
    "print(f\"Class balance after resampling: {balanced_df['Label'].value_counts()}\")"
   ]
  },
  {
   "cell_type": "code",
   "execution_count": 19,
   "id": "532dc088-4065-491a-bfe4-d9cf02947985",
   "metadata": {},
   "outputs": [
    {
     "name": "stdout",
     "output_type": "stream",
     "text": [
      "Data cleaning completed. File saved as 01-12-cleaned_dataset.csv\n"
     ]
    }
   ],
   "source": [
    "import pandas as pd\n",
    "\n",
    "# Load the balanced dataset from V1\n",
    "df = pd.read_csv(\"01-12-balanced_dataset.csv\")\n",
    "\n",
    "# Remove duplicate records\n",
    "df = df.drop_duplicates()\n",
    "\n",
    "# Drop columns where all values are missing\n",
    "df = df.dropna(axis=1, how='all')\n",
    "\n",
    "# Convert all numeric columns properly\n",
    "for col in df.columns:\n",
    "    if df[col].dtype == 'object':  # If column is a string\n",
    "        try:\n",
    "            df[col] = pd.to_numeric(df[col])  # Convert to numeric if possible\n",
    "        except ValueError:\n",
    "            pass  # Ignore errors and keep as string\n",
    "\n",
    "# Drop rows with missing values\n",
    "df = df.dropna()\n",
    "\n",
    "# Handle infinite values by replacing them with NaN\n",
    "df.replace([float('inf'), float('-inf')], float('nan'), inplace=True)\n",
    "\n",
    "# Optionally, drop rows with NaN values after replacing infinities\n",
    "df = df.dropna()\n",
    "\n",
    "# Save as CSV\n",
    "df.to_csv(\"01-12-cleaned_dataset.csv\", index=False)\n",
    "\n",
    "print(\"Data cleaning completed. File saved as 01-12-cleaned_dataset.csv\")\n"
   ]
  },
  {
   "cell_type": "code",
   "execution_count": 20,
   "id": "bfb6b5ea-a911-4712-a599-7f2cd45fd5e6",
   "metadata": {},
   "outputs": [
    {
     "name": "stdout",
     "output_type": "stream",
     "text": [
      "Unique values in 'Protocol' before cleaning: [ 6 17  0]\n",
      "Unique values in 'Protocol' after cleaning: [ 6 17  0]\n",
      "Data cleaning completed. File saved as 01-12-cleaned_dataset.csv\n"
     ]
    }
   ],
   "source": [
    "import pandas as pd\n",
    "\n",
    "# Load the dataset\n",
    "df = pd.read_csv(\"01-12-balanced_dataset.csv\")\n",
    "\n",
    "# Check unique values in the Protocol column\n",
    "print(\"Unique values in 'Protocol' before cleaning:\", df['Protocol'].unique())\n",
    "\n",
    "# Remove duplicate records\n",
    "df = df.drop_duplicates()\n",
    "\n",
    "# Drop columns where all values are missing\n",
    "df = df.dropna(axis=1, how='all')\n",
    "\n",
    "# Convert all numeric columns properly\n",
    "for col in df.columns:\n",
    "    if df[col].dtype == 'object':  # If column is a string\n",
    "        try:\n",
    "            df[col] = pd.to_numeric(df[col])  # Convert to numeric if possible\n",
    "        except ValueError:\n",
    "            pass  # Ignore errors and keep as string\n",
    "\n",
    "# Check unique values in the Protocol column after cleaning\n",
    "print(\"Unique values in 'Protocol' after cleaning:\", df['Protocol'].unique())\n",
    "\n",
    "# Drop rows with missing values\n",
    "df = df.dropna()\n",
    "\n",
    "# Handle infinite values by replacing them with NaN\n",
    "df.replace([float('inf'), float('-inf')], float('nan'), inplace=True)\n",
    "\n",
    "# Optionally, drop rows with NaN values after replacing infinities\n",
    "df = df.dropna()\n",
    "\n",
    "# Save as CSV\n",
    "df.to_csv(\"01-12-cleaned_dataset.csv\", index=False)\n",
    "\n",
    "print(\"Data cleaning completed. File saved as 01-12-cleaned_dataset.csv\")\n"
   ]
  },
  {
   "cell_type": "code",
   "execution_count": 21,
   "id": "bd8c9261-991f-4ea7-8846-7904cf79bcce",
   "metadata": {},
   "outputs": [
    {
     "name": "stdout",
     "output_type": "stream",
     "text": [
      "    Protocol\n",
      "0          6\n",
      "1          6\n",
      "6          6\n",
      "10         6\n",
      "11         6\n",
      "12         6\n",
      "13         6\n",
      "17         6\n",
      "18        17\n",
      "19         6\n"
     ]
    }
   ],
   "source": [
    "print(df[['Protocol']].head(10))  # Print the first 10 rows to inspect the Protocol values\n"
   ]
  }
 ],
 "metadata": {
  "kernelspec": {
   "display_name": "Python 3 (ipykernel)",
   "language": "python",
   "name": "python3"
  },
  "language_info": {
   "codemirror_mode": {
    "name": "ipython",
    "version": 3
   },
   "file_extension": ".py",
   "mimetype": "text/x-python",
   "name": "python",
   "nbconvert_exporter": "python",
   "pygments_lexer": "ipython3",
   "version": "3.12.4"
  }
 },
 "nbformat": 4,
 "nbformat_minor": 5
}
